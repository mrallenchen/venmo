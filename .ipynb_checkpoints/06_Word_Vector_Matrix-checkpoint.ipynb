{
 "cells": [
  {
   "cell_type": "code",
   "execution_count": 1,
   "metadata": {},
   "outputs": [],
   "source": [
    "import pickle"
   ]
  },
  {
   "cell_type": "code",
   "execution_count": 2,
   "metadata": {},
   "outputs": [],
   "source": [
    "from gensim.test.utils import common_texts\n",
    "from gensim.models.doc2vec import Doc2Vec, TaggedDocument\n",
    "from sklearn.feature_extraction.text import CountVectorizer "
   ]
  },
  {
   "cell_type": "code",
   "execution_count": 3,
   "metadata": {},
   "outputs": [],
   "source": [
    "import gensim"
   ]
  },
  {
   "cell_type": "code",
   "execution_count": 91,
   "metadata": {},
   "outputs": [],
   "source": [
    "champion_demoji_notes = pickle.load(open(\"Data/champion_demoji_notes.pickle\",\"rb\"))"
   ]
  },
  {
   "cell_type": "markdown",
   "metadata": {},
   "source": [
    "# Import google_vec_file model"
   ]
  },
  {
   "cell_type": "code",
   "execution_count": 5,
   "metadata": {},
   "outputs": [],
   "source": [
    "google_vec_file = '/Users/allen/gensim-data/word2vec-google-news-300/word2vec-google-news-300.gz'"
   ]
  },
  {
   "cell_type": "code",
   "execution_count": 6,
   "metadata": {},
   "outputs": [],
   "source": [
    "model = gensim.models.KeyedVectors.load_word2vec_format(google_vec_file, binary=True)"
   ]
  },
  {
   "cell_type": "code",
   "execution_count": 90,
   "metadata": {},
   "outputs": [
    {
     "data": {
      "text/plain": [
       "0.5332027"
      ]
     },
     "execution_count": 90,
     "metadata": {},
     "output_type": "execute_result"
    }
   ],
   "source": [
    "model.similarity('drink','soft_drink')"
   ]
  },
  {
   "cell_type": "markdown",
   "metadata": {},
   "source": [
    "Some words were investigated to help determine \"replacement words\" for words/demojis in the venmo data to apply for the google vectors. This is because the venmo data contains words that are too new or emojis that are defined awkwardly in their demoji form. The resulting replacement words will be shown in the next section. However, leaving these investigations here for reference:"
   ]
  },
  {
   "cell_type": "code",
   "execution_count": 83,
   "metadata": {},
   "outputs": [
    {
     "data": {
      "text/plain": [
       "[('Pago_Pago_Pan', 0.622675895690918),\n",
       " ('wok', 0.5562013983726501),\n",
       " ('greased_##x#_inch', 0.5502599477767944),\n",
       " ('Spread_evenly', 0.5426678657531738),\n",
       " ('Scrape_batter', 0.5382149815559387),\n",
       " ('pans', 0.5331485271453857),\n",
       " ('roasting_tin', 0.5267579555511475),\n",
       " ('fluted_tube', 0.5209231376647949),\n",
       " ('Remove_ramekins', 0.5195724964141846),\n",
       " ('braising_pan', 0.5172948837280273)]"
      ]
     },
     "execution_count": 83,
     "metadata": {},
     "output_type": "execute_result"
    }
   ],
   "source": [
    "model.most_similar('pan' ,topn=10)"
   ]
  },
  {
   "cell_type": "code",
   "execution_count": 58,
   "metadata": {
    "scrolled": true
   },
   "outputs": [
    {
     "data": {
      "text/plain": [
       "[('hotels', 0.7709728479385376),\n",
       " ('Hotel', 0.7388719320297241),\n",
       " ('motel', 0.6617120504379272),\n",
       " ('boutique_hotel', 0.6605492830276489),\n",
       " ('Holiday_Inn', 0.6501166820526123),\n",
       " ('Radisson', 0.6451880931854248),\n",
       " ('luxury_hotels', 0.6348958611488342),\n",
       " ('Hilton_Hotel', 0.631220817565918),\n",
       " ('hotel_rooms', 0.6287953853607178),\n",
       " ('Comfort_Inn', 0.624336838722229),\n",
       " ('Sheraton', 0.621568500995636),\n",
       " ('Ritz_Carlton', 0.6092858910560608),\n",
       " ('Marriott', 0.6088112592697144),\n",
       " ('Crowne_Plaza', 0.6071105003356934),\n",
       " ('guesthouse', 0.6050461530685425),\n",
       " ('Holiday_Inn_Express', 0.6020388007164001),\n",
       " ('Days_Inn', 0.6012592315673828),\n",
       " ('Ramada', 0.6008826494216919),\n",
       " ('Plaza_Hotel', 0.5984760522842407),\n",
       " ('Marriott_Hotel', 0.5977115035057068)]"
      ]
     },
     "execution_count": 58,
     "metadata": {},
     "output_type": "execute_result"
    }
   ],
   "source": [
    "model.most_similar('hotel' ,topn=20)"
   ]
  },
  {
   "cell_type": "code",
   "execution_count": 100,
   "metadata": {},
   "outputs": [
    {
     "data": {
      "text/plain": [
       "[('taxis', 0.7733616828918457),\n",
       " ('cab', 0.751055896282196),\n",
       " ('taxi_cab', 0.7403104901313782),\n",
       " ('taxicab', 0.7023347616195679),\n",
       " ('cabs', 0.6708043813705444),\n",
       " ('Taxi', 0.6545107364654541),\n",
       " ('taxi_drivers', 0.63905268907547),\n",
       " ('taxi_driver', 0.6308900117874146),\n",
       " ('metered_taxi', 0.6266015768051147),\n",
       " ('Taxis', 0.6228652000427246),\n",
       " ('bus', 0.6101229190826416),\n",
       " ('minibus_taxi', 0.6031783819198608),\n",
       " ('hackney_cab', 0.6017272472381592),\n",
       " ('taxi_cabs', 0.5976808667182922),\n",
       " ('commuter_omnibus', 0.5937273502349854),\n",
       " ('Hackney_carriage', 0.5880261063575745),\n",
       " ('minicab', 0.5863661170005798),\n",
       " ('kombi', 0.5860331654548645),\n",
       " ('cabbies', 0.5849757790565491),\n",
       " ('pedicab', 0.5796362161636353)]"
      ]
     },
     "execution_count": 100,
     "metadata": {},
     "output_type": "execute_result"
    }
   ],
   "source": [
    "model.most_similar('taxi' ,topn=20)"
   ]
  },
  {
   "cell_type": "code",
   "execution_count": 117,
   "metadata": {},
   "outputs": [
    {
     "data": {
      "text/plain": [
       "[('utilities', 0.7009180784225464),\n",
       " ('municipally_owned_utilities', 0.6169761419296265),\n",
       " ('electric_cooperatives', 0.6069028377532959),\n",
       " ('utility', 0.5806939601898193),\n",
       " ('municipally_owned_electric', 0.5650533437728882),\n",
       " ('electric_coops', 0.5521148443222046),\n",
       " ('rural_electric_cooperatives', 0.5459304451942444),\n",
       " ('PSC_regulates', 0.5455386638641357),\n",
       " ('electric_co_ops', 0.5392013192176819),\n",
       " ('Electric_Power', 0.5380927324295044)]"
      ]
     },
     "execution_count": 117,
     "metadata": {},
     "output_type": "execute_result"
    }
   ],
   "source": [
    "model.most_similar('electric_utilities' ,topn=10)"
   ]
  },
  {
   "cell_type": "code",
   "execution_count": 114,
   "metadata": {
    "scrolled": true
   },
   "outputs": [
    {
     "data": {
      "text/plain": [
       "[('Duplicates_blanks', 0.5838363766670227),\n",
       " ('PacifiCorp', 0.5824887752532959),\n",
       " ('Carol_Dillin', 0.5813270807266235),\n",
       " ('Pacificorp', 0.5481076836585999),\n",
       " ('NorthWestern_Energy', 0.5469371676445007),\n",
       " ('NorthWestern', 0.5408217310905457),\n",
       " ('NW_Natural', 0.5304538011550903),\n",
       " ('OPUC', 0.5174880623817444),\n",
       " ('UPPCO', 0.5151256322860718),\n",
       " ('Snohomish_PUD', 0.5090051293373108)]"
      ]
     },
     "execution_count": 114,
     "metadata": {},
     "output_type": "execute_result"
    }
   ],
   "source": [
    "model.most_similar('PGE' ,topn=10)"
   ]
  },
  {
   "cell_type": "code",
   "execution_count": 118,
   "metadata": {},
   "outputs": [
    {
     "data": {
      "text/plain": [
       "[('Paypal', 0.7602874040603638),\n",
       " ('Google_Checkout', 0.715651273727417),\n",
       " ('Pay_Pal', 0.7018272876739502),\n",
       " ('eBay_PayPal', 0.6999166011810303),\n",
       " ('Moneybookers', 0.6631183624267578),\n",
       " ('PayPal.com', 0.6384962201118469),\n",
       " ('BillMeLater', 0.6336174011230469),\n",
       " ('EBay_PayPal', 0.6285898685455322),\n",
       " ('TextPayMe', 0.6259293556213379),\n",
       " ('BidPay', 0.6135702133178711)]"
      ]
     },
     "execution_count": 118,
     "metadata": {},
     "output_type": "execute_result"
    }
   ],
   "source": [
    "model.most_similar('PayPal' ,topn=10)"
   ]
  },
  {
   "cell_type": "code",
   "execution_count": 119,
   "metadata": {},
   "outputs": [
    {
     "data": {
      "text/plain": [
       "[('Apple_iTunes', 0.8715908527374268),\n",
       " ('iTunes_Store', 0.8538672924041748),\n",
       " ('ITunes', 0.8110736012458801),\n",
       " ('iTMS', 0.7775790691375732),\n",
       " ('iTunes_Music', 0.7734019756317139),\n",
       " ('Itunes', 0.7528980374336243),\n",
       " ('Amazon_MP3', 0.7270671129226685),\n",
       " ('iTune', 0.7243272066116333),\n",
       " ('i_Tunes', 0.6992102861404419),\n",
       " ('Apple_iTunes_Store', 0.698078989982605)]"
      ]
     },
     "execution_count": 119,
     "metadata": {},
     "output_type": "execute_result"
    }
   ],
   "source": [
    "model.most_similar('iTunes' ,topn=10)"
   ]
  },
  {
   "cell_type": "code",
   "execution_count": 126,
   "metadata": {
    "scrolled": false
   },
   "outputs": [
    {
     "data": {
      "text/plain": [
       "[('splitting', 0.7858734726905823),\n",
       " ('splits', 0.7466990947723389),\n",
       " ('divided', 0.6689090728759766),\n",
       " ('Splitting', 0.594376266002655),\n",
       " ('Split', 0.5633286833763123),\n",
       " ('divide', 0.5564593076705933),\n",
       " ('dividing', 0.533165454864502),\n",
       " ('split_evenly', 0.5129998326301575),\n",
       " ('seperated', 0.5108623504638672),\n",
       " ('breakup', 0.5095133781433105)]"
      ]
     },
     "execution_count": 126,
     "metadata": {},
     "output_type": "execute_result"
    }
   ],
   "source": [
    "model.most_similar('split' ,topn=10)"
   ]
  },
  {
   "cell_type": "markdown",
   "metadata": {},
   "source": [
    "# Create word_vector_matrix"
   ]
  },
  {
   "cell_type": "code",
   "execution_count": 113,
   "metadata": {},
   "outputs": [],
   "source": [
    "vectorizer = CountVectorizer(token_pattern=r'[^\\s][^\\s][^\\s]+',stop_words='english',min_df=100)"
   ]
  },
  {
   "cell_type": "code",
   "execution_count": 114,
   "metadata": {},
   "outputs": [],
   "source": [
    "doc_word_matrix = vectorizer.fit_transform(champion_demoji_notes)"
   ]
  },
  {
   "cell_type": "code",
   "execution_count": 115,
   "metadata": {},
   "outputs": [],
   "source": [
    "columns=vectorizer.get_feature_names()"
   ]
  },
  {
   "cell_type": "code",
   "execution_count": 116,
   "metadata": {},
   "outputs": [
    {
     "data": {
      "text/plain": [
       "922"
      ]
     },
     "execution_count": 116,
     "metadata": {},
     "output_type": "execute_result"
    }
   ],
   "source": [
    "len(columns)"
   ]
  },
  {
   "cell_type": "markdown",
   "metadata": {},
   "source": [
    "Identify missing vocabulary (those in venmo data, not in google embeddings); and create replacement words for the vector lookup"
   ]
  },
  {
   "cell_type": "code",
   "execution_count": 117,
   "metadata": {},
   "outputs": [],
   "source": [
    "def missing_vocab(columns):\n",
    "    for x in columns:\n",
    "        try:\n",
    "            model[x]\n",
    "        except:\n",
    "            print(x)"
   ]
  },
  {
   "cell_type": "code",
   "execution_count": 118,
   "metadata": {},
   "outputs": [],
   "source": [
    "#updating the vector lookup with replacement words\n",
    "word_subs = {\n",
    "            'airbnb':'guesthouse',\n",
    "            'bnb':'guesthouse',\n",
    "            'can’t':\"can't\",\n",
    "            'didn’t':\"didn't\",\n",
    "            'don’t':\"don't\",\n",
    "            'doughnut':'donut',\n",
    "            'dranks':'drinks',\n",
    "            'facepalming':'facepalm',\n",
    "            'father’s':\"fathers\",\n",
    "            'ibotta': \"rebate\", #ibotta is a company that gives cashback rewards through venmo. i think most similar to rebate. note there is no rebate in the vocab\n",
    "            'it’s':\"it's\",\n",
    "            'i’ll':\"I'll\",\n",
    "            'i’m':\"I'm\",\n",
    "            'let’s':\"let's\",\n",
    "            'uber':'cab', #google_vec_file won't treat uber correctly\n",
    "            'lyft':'taxi_cab', #google_vec_file won't treat lyft correctly\n",
    "            'man’s':\"man's\",\n",
    "            'mother’s':\"mother's\",\n",
    "            'pge':'electric_utilities',\n",
    "            'splitwise':'split_evenly',\n",
    "            'splitwisecom':'split_evenly',\n",
    "            'spotify':'iTunes', #iTunes is the old version of spotify\n",
    "            'venmo':'PayPal', #paypal was venmo before venmo was venmo (and now currently the parent company)\n",
    "            'woman’s':\"woman's\",\n",
    "            'you’re':\"you're\"\n",
    "}\n"
   ]
  },
  {
   "cell_type": "code",
   "execution_count": 119,
   "metadata": {
    "scrolled": false
   },
   "outputs": [
    {
     "name": "stdout",
     "output_type": "stream",
     "text": [
      "airbnb\n",
      "bnb\n",
      "can’t\n",
      "didn’t\n",
      "don’t\n",
      "doughnut\n",
      "dranks\n",
      "facepalming\n",
      "father’s\n",
      "ibotta\n",
      "it’s\n",
      "i’ll\n",
      "i’m\n",
      "let’s\n",
      "lyft\n",
      "man’s\n",
      "mother’s\n",
      "pge\n",
      "splitwise\n",
      "splitwisecom\n",
      "spotify\n",
      "venmo\n",
      "woman’s\n",
      "you’re\n"
     ]
    }
   ],
   "source": [
    "missing_vocab(columns)"
   ]
  },
  {
   "cell_type": "code",
   "execution_count": 120,
   "metadata": {},
   "outputs": [],
   "source": [
    "columns_sub = columns.copy()\n",
    "for i in word_subs:\n",
    "    columns_sub[columns.index(i)] = word_subs[i]"
   ]
  },
  {
   "cell_type": "code",
   "execution_count": 121,
   "metadata": {
    "scrolled": true
   },
   "outputs": [],
   "source": [
    "word_vector_list = [model[x] for x in columns_sub]"
   ]
  },
  {
   "cell_type": "code",
   "execution_count": 122,
   "metadata": {},
   "outputs": [
    {
     "name": "stdout",
     "output_type": "stream",
     "text": [
      "922\n",
      "300\n"
     ]
    }
   ],
   "source": [
    "print(len(word_vector_list))\n",
    "print(len(word_vector_list[0]))"
   ]
  },
  {
   "cell_type": "code",
   "execution_count": 124,
   "metadata": {},
   "outputs": [],
   "source": [
    "import numpy as np"
   ]
  },
  {
   "cell_type": "code",
   "execution_count": 125,
   "metadata": {
    "scrolled": true
   },
   "outputs": [],
   "source": [
    "word_vector_matrix = np.array(word_vector_list)"
   ]
  },
  {
   "cell_type": "code",
   "execution_count": 126,
   "metadata": {
    "scrolled": true
   },
   "outputs": [
    {
     "data": {
      "text/plain": [
       "(922, 300)"
      ]
     },
     "execution_count": 126,
     "metadata": {},
     "output_type": "execute_result"
    }
   ],
   "source": [
    "word_vector_matrix.shape"
   ]
  },
  {
   "cell_type": "code",
   "execution_count": 127,
   "metadata": {},
   "outputs": [],
   "source": [
    "with open('Data/word_vector_matrix.pickle', 'wb') as f:\n",
    "    pickle.dump(word_vector_matrix, f)"
   ]
  },
  {
   "cell_type": "code",
   "execution_count": null,
   "metadata": {},
   "outputs": [],
   "source": []
  }
 ],
 "metadata": {
  "kernelspec": {
   "display_name": "Python [conda env:metis] *",
   "language": "python",
   "name": "conda-env-metis-py"
  },
  "language_info": {
   "codemirror_mode": {
    "name": "ipython",
    "version": 3
   },
   "file_extension": ".py",
   "mimetype": "text/x-python",
   "name": "python",
   "nbconvert_exporter": "python",
   "pygments_lexer": "ipython3",
   "version": "3.8.3"
  }
 },
 "nbformat": 4,
 "nbformat_minor": 4
}
